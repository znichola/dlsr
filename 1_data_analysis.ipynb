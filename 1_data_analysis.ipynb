{
 "cells": [
  {
   "cell_type": "code",
   "execution_count": 19,
   "id": "3219223a-5f92-4ff7-8d07-6259a601a347",
   "metadata": {},
   "outputs": [],
   "source": [
    "import pandas as pd\n",
    "import describe as d\n",
    "\n",
    "data_file = \"datasets/dataset_train.csv\"\n",
    "\n",
    "data = d.loadData(data_file)\n",
    "if data is None:\n",
    "    exit(0)\n",
    "    \n",
    "df = data"
   ]
  },
  {
   "cell_type": "code",
   "execution_count": 20,
   "id": "c0028a75-e53b-4086-89b9-d30f8bc77459",
   "metadata": {},
   "outputs": [
    {
     "data": {
      "text/plain": [
       "Index(['Index', 'Hogwarts House', 'First Name', 'Last Name', 'Birthday',\n",
       "       'Best Hand', 'Arithmancy', 'Astronomy', 'Herbology',\n",
       "       'Defense Against the Dark Arts', 'Divination', 'Muggle Studies',\n",
       "       'Ancient Runes', 'History of Magic', 'Transfiguration', 'Potions',\n",
       "       'Care of Magical Creatures', 'Charms', 'Flying'],\n",
       "      dtype='object')"
      ]
     },
     "execution_count": 20,
     "metadata": {},
     "output_type": "execute_result"
    }
   ],
   "source": [
    "\n",
    "\n",
    "data.columns"
   ]
  },
  {
   "cell_type": "code",
   "execution_count": 23,
   "id": "40922965-e792-412f-8e0a-660a1a43d582",
   "metadata": {},
   "outputs": [
    {
     "name": "stdout",
     "output_type": "stream",
     "text": [
      "         Arithmancy   Astronomy   Herbology  Defense Against the Dark Arts  Divination  Muggle Studies  Ancient Runes  History of Magic  Transfiguration     Potions  Care of Magical Creatures      Charms      Flying\n",
      "Count   1566.000000 1568.000000 1567.000000                    1569.000000 1561.000000     1565.000000    1565.000000       1557.000000      1566.000000 1570.000000                1560.000000 1600.000000 1600.000000\n",
      "Mean   49634.570243   39.797131    1.141020                      -0.387863    3.153910     -224.589915     495.747970          2.963095      1030.096946    5.950373                  -0.053427 -243.374409   21.958012\n",
      "Std    16674.479577  520.132330    5.218016                       5.211132    4.153970      486.189433     106.251202          4.424353        44.111025    3.146852                   0.971146    8.780895   97.601087\n",
      "Min   -24370.000000 -966.740546  -10.295663                     -10.162119   -8.727000    -1086.496835     283.869609         -8.858993       906.627320   -4.697484                  -3.313676 -261.048920 -181.470000\n",
      "25%    38510.000000 -489.608997   -4.308182                      -5.259095    3.099000     -577.580096     397.511047          2.218653      1026.171713    3.644900                  -0.672217 -250.657930  -41.900000\n",
      "50%    49013.500000  260.289446    3.469012                      -2.589342    4.624000     -419.164294     463.918305          4.378176      1045.506996    5.874837                  -0.044811 -244.867765   -2.515000\n",
      "75%    60828.000000  525.151146    5.419183                       4.904680    5.667000      254.994857     597.492230          5.825242      1058.445388    8.248789                   0.591428 -232.547120   50.670000\n",
      "Max   104956.000000 1016.211940   11.612895                       9.667405   10.032000     1092.388611     745.396220         11.889713      1098.958201   13.536762                   3.056546 -225.428140  279.070000\n"
     ]
    }
   ],
   "source": [
    "summary = {\n",
    "    \"Count\": [],\n",
    "    \"Mean\": [],\n",
    "    \"Std\": [],\n",
    "    \"Min\": [],\n",
    "    \"25%\": [],\n",
    "    \"50%\": [],\n",
    "    \"75%\": [],\n",
    "    \"Max\": []\n",
    "}\n",
    "\n",
    "numeric_columns = [col for col in df.select_dtypes(include=[\"number\"]).columns if col != \"Index\"]\n",
    "\n",
    "for col in numeric_columns:\n",
    "    col_data = df[col].dropna().tolist()\n",
    "    summary[\"Count\"].append(float(len(col_data)))\n",
    "    summary[\"Mean\"].append(d.mean(col_data))\n",
    "    summary[\"Std\"].append(d.std(col_data))\n",
    "    summary[\"Min\"].append(min(col_data))\n",
    "    q1, q3 = d.quartile(col_data)\n",
    "    summary[\"25%\"].append(q1)\n",
    "    summary[\"50%\"].append(d.median(col_data))\n",
    "    summary[\"75%\"].append(q3)\n",
    "    summary[\"Max\"].append(max(col_data))\n",
    "\n",
    "# --- Create Summary DataFrame ---\n",
    "summary_df = pd.DataFrame(summary, index=numeric_columns).T\n",
    "\n",
    "# --- Print in Requested Format ---\n",
    "print(summary_df.to_string(float_format=\"%.6f\"))"
   ]
  }
 ],
 "metadata": {
  "kernelspec": {
   "display_name": "Python 3 (ipykernel)",
   "language": "python",
   "name": "python3"
  },
  "language_info": {
   "codemirror_mode": {
    "name": "ipython",
    "version": 3
   },
   "file_extension": ".py",
   "mimetype": "text/x-python",
   "name": "python",
   "nbconvert_exporter": "python",
   "pygments_lexer": "ipython3",
   "version": "3.10.12"
  }
 },
 "nbformat": 4,
 "nbformat_minor": 5
}
